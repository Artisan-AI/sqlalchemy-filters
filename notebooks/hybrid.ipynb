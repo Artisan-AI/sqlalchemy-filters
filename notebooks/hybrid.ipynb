{
 "cells": [
  {
   "cell_type": "code",
   "execution_count": null,
   "metadata": {},
   "outputs": [],
   "source": [
    "from sqlalchemy import Column, Integer, String, ForeignKey, Date, DateTime\n",
    "from sqlalchemy.ext.declarative import declarative_base\n",
    "from sqlalchemy.ext.hybrid import hybrid_property, hybrid_method\n",
    "from sqlalchemy.orm import Session, aliased, relationship"
   ]
  },
  {
   "cell_type": "code",
   "execution_count": null,
   "metadata": {},
   "outputs": [],
   "source": [
    "from sqlalchemy.inspection import inspect\n",
    "from sqlalchemy.util import symbol"
   ]
  },
  {
   "cell_type": "code",
   "execution_count": null,
   "metadata": {},
   "outputs": [],
   "source": [
    "class Base(object):\n",
    "    \n",
    "    id = Column(Integer, primary_key=True)\n",
    "    name = Column(\"name 3\", String(50), nullable=False)\n",
    "    count = Column(Integer, nullable=True)\n",
    "\n",
    "\n",
    "Base = declarative_base(cls=Base)"
   ]
  },
  {
   "cell_type": "code",
   "execution_count": null,
   "metadata": {},
   "outputs": [],
   "source": [
    "class Foo(Base):\n",
    "\n",
    "    __tablename__ = 'foo'\n",
    "\n",
    "    bar_id = Column(Integer, ForeignKey('bar.id'), nullable=True)\n",
    "    bar = relationship('Bar', back_populates='foos')\n",
    "\n",
    "\n",
    "class Bar(Base):\n",
    "\n",
    "    __tablename__ = 'bar'\n",
    "    \n",
    "    foos = relationship('Foo', back_populates='bar')\n",
    "    \n",
    "    start = Column(Integer, nullable=False)\n",
    "    end = Column(Integer, nullable=False)\n",
    "    \n",
    "    def my_func(self):\n",
    "        return 1\n",
    "    \n",
    "    @hybrid_property\n",
    "    def length(self):\n",
    "        return self.end - self.start\n",
    "\n",
    "    @hybrid_method\n",
    "    def contains(self, point):\n",
    "        return (self.start <= point) & (point <= self.end)\n",
    "\n",
    "    @hybrid_method\n",
    "    def intersects(self, other):\n",
    "        return self.contains(other.start) | self.contains(other.end)\n",
    "\n",
    "\n",
    "class Baz(Base):\n",
    "\n",
    "    __tablename__ = 'baz'\n",
    "\n",
    "    qux_id = Column(Integer, ForeignKey('qux.id'), nullable=True)\n",
    "\n",
    "\n",
    "class Qux(Base):\n",
    "\n",
    "    __tablename__ = 'qux'\n",
    "\n",
    "    created_at = Column(Date)\n",
    "    execution_time = Column(DateTime)\n"
   ]
  },
  {
   "cell_type": "code",
   "execution_count": null,
   "metadata": {},
   "outputs": [],
   "source": [
    "inspect_mapper = inspect(Bar)\n",
    "\n",
    "column_attrs = inspect_mapper.column_attrs\n",
    "column_attr_names = column_attrs.keys()\n",
    "\n",
    "columns = inspect_mapper.columns\n",
    "orm_descriptors = inspect_mapper.all_orm_descriptors\n",
    "\n",
    "column_names = columns.keys()\n",
    "hybrid_names = [\n",
    "    key for key, item in orm_descriptors.items()\n",
    "    if item.extension_type == symbol('HYBRID_PROPERTY') or \n",
    "    item.extension_type == symbol('HYBRID_METHOD')   \n",
    "]"
   ]
  },
  {
   "cell_type": "code",
   "execution_count": null,
   "metadata": {},
   "outputs": [],
   "source": [
    "column_names"
   ]
  },
  {
   "cell_type": "code",
   "execution_count": null,
   "metadata": {},
   "outputs": [],
   "source": [
    "hybrid_names"
   ]
  },
  {
   "cell_type": "code",
   "execution_count": null,
   "metadata": {},
   "outputs": [],
   "source": [
    "set(column_names) | set(hybrid_names)"
   ]
  }
 ],
 "metadata": {
  "kernelspec": {
   "display_name": "Python 3",
   "language": "python",
   "name": "python3"
  },
  "language_info": {
   "codemirror_mode": {
    "name": "ipython",
    "version": 3
   },
   "file_extension": ".py",
   "mimetype": "text/x-python",
   "name": "python",
   "nbconvert_exporter": "python",
   "pygments_lexer": "ipython3",
   "version": "3.6.4"
  }
 },
 "nbformat": 4,
 "nbformat_minor": 2
}
